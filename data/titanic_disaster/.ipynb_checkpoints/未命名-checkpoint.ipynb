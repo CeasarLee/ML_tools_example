{
 "cells": [
  {
   "cell_type": "code",
   "execution_count": 1,
   "metadata": {},
   "outputs": [],
   "source": [
    "import numpy as np\n",
    "import matplotlib.pyplot as plt\n",
    "import pandas as pd"
   ]
  },
  {
   "cell_type": "code",
   "execution_count": 2,
   "metadata": {},
   "outputs": [],
   "source": [
    "data_train = pd.read_csv('train.csv')"
   ]
  },
  {
   "cell_type": "code",
   "execution_count": 3,
   "metadata": {},
   "outputs": [],
   "source": [
    "def plot_figure(x, y, x_label=None, y_label=None, legend=None, figure_type=None, save_path=None, title=None, dpi=200, grid=False):\n",
    "    \"\"\"\n",
    "    :param figure_type: 'pi', 'scatter', 'hist'\n",
    "    :param save_path: the path to save the figure\n",
    "    :return:\n",
    "    \"\"\"\n",
    "    fig = plt.figure(dpi=dpi)\n",
    "    if legend != None:\n",
    "        if figure_type == None:\n",
    "            if len(y.shape) > 1:\n",
    "                for i in range(len(y)):\n",
    "                    plt.plot(x, y[i], legend[i])\n",
    "            else:\n",
    "                plt.plot(x, y, legend)\n",
    "        elif figure_type == 'bar':\n",
    "            if len(y.shape) > 1:\n",
    "                for i in range(len(y)):\n",
    "                    plt.bar(x, y[i], legend[i], stack=True)\n",
    "            else:\n",
    "                plt.bar(x, y, legend)\n",
    "        elif figure_type == 'scatter':\n",
    "            if len(y.shape) > 1:\n",
    "                for i in range(len(y)):\n",
    "                    plt.scatter(x, y[i], legend[i])\n",
    "            else:\n",
    "                plt.scatter(x, y, legend)\n",
    "        elif figure_type == 'pie':\n",
    "            if len(y.shape) > 1:\n",
    "                raise ValueError(\"the shape of y must be one dimension\")\n",
    "            else:\n",
    "                plt.pie(y, explode=[0 for i in range(len(y))], labels=legend, autopct=\"%1.1f%%\")\n",
    "        plt.xlabel(x_label)\n",
    "        plt.ylabel(y_label)\n",
    "        plt.legend()\n",
    "    else:\n",
    "        if figure_type == None:\n",
    "            if len(y.shape) > 1:\n",
    "                for i in range(len(y)):\n",
    "                    plt.plot(x, y[i])\n",
    "            else:\n",
    "                plt.plot(x, y)\n",
    "        elif figure_type == 'bar':\n",
    "            if len(y.shape) > 1:\n",
    "                for i in range(len(y)):\n",
    "                    plt.plot(x, y[i], stack=True)\n",
    "            else:\n",
    "                plt.bar(x, y)\n",
    "        elif figure_type == 'scatter':\n",
    "            if len(y.shape) > 1:\n",
    "                for i in range(len(y)):\n",
    "                    plt.scatter(x, y[i])\n",
    "            else:\n",
    "                plt.scatter(x, y)\n",
    "        plt.xlabel(x_label)\n",
    "        plt.ylabel(y_label)\n",
    "    if save_path != None:\n",
    "        plt.savefig(save_path)\n",
    "    if title != None:\n",
    "        plt.title(title)\n",
    "    if grid:\n",
    "        plt.grid(True)\n",
    "    plt.show()"
   ]
  },
  {
   "cell_type": "code",
   "execution_count": 4,
   "metadata": {},
   "outputs": [],
   "source": [
    "Survived_m = data_train.Survived[data_train.Sex == 'male'].value_counts()\n",
    "Survived_f = data_train.Survived[data_train.Sex == 'female'].value_counts()\n"
   ]
  },
  {
   "cell_type": "code",
   "execution_count": 30,
   "metadata": {},
   "outputs": [
    {
     "data": {
      "image/png": "[encoded data removed]",
      "text/plain": [
       "<Figure size 432x288 with 1 Axes>"
      ]
     },
     "metadata": {
      "needs_background": "light"
     },
     "output_type": "display_data"
    }
   ],
   "source": [
    "Survived_m = data_train.Survived[data_train.Sex == 'male'].value_counts()\n",
    "Survived_f = data_train.Survived[data_train.Sex == 'female'].value_counts()\n",
    "df=pd.DataFrame({u'男性':Survived_m, u'女性':Survived_f})\n",
    "df.plot(kind='bar', stacked=True)\n",
    "plt.title(u\"按性别看获救情况\")\n",
    "plt.xlabel(u\"性别\") \n",
    "plt.ylabel(u\"人数\")\n",
    "plt.show()\n"
   ]
  },
  {
   "cell_type": "code",
   "execution_count": 14,
   "metadata": {},
   "outputs": [
    {
     "data": {
      "text/plain": [
       "array([[ True,  True,  True, ...,  True, False,  True],\n",
       "       [ True,  True,  True, ...,  True,  True,  True],\n",
       "       [ True,  True,  True, ...,  True, False,  True],\n",
       "       ...,\n",
       "       [ True,  True,  True, ...,  True, False,  True],\n",
       "       [ True,  True,  True, ...,  True,  True,  True],\n",
       "       [ True,  True,  True, ...,  True, False,  True]])"
      ]
     },
     "execution_count": 14,
     "metadata": {},
     "output_type": "execute_result"
    }
   ],
   "source": [
    "data_train.values == data_train.values"
   ]
  },
  {
   "cell_type": "code",
   "execution_count": 17,
   "metadata": {},
   "outputs": [],
   "source": [
    "values = data_train.Pclass"
   ]
  },
  {
   "cell_type": "code",
   "execution_count": 19,
   "metadata": {},
   "outputs": [],
   "source": [
    "import sklearn.preprocessing as preprocessing\n",
    "scaler = preprocessing.StandardScaler()\n"
   ]
  },
  {
   "cell_type": "code",
   "execution_count": null,
   "metadata": {},
   "outputs": [],
   "source": []
  }
 ],
 "metadata": {
  "kernelspec": {
   "display_name": "Python 3",
   "language": "python",
   "name": "python3"
  },
  "language_info": {
   "codemirror_mode": {
    "name": "ipython",
    "version": 3
   },
   "file_extension": ".py",
   "mimetype": "text/x-python",
   "name": "python",
   "nbconvert_exporter": "python",
   "pygments_lexer": "ipython3",
   "version": "3.6.7"
  }
 },
 "nbformat": 4,
 "nbformat_minor": 2
}
